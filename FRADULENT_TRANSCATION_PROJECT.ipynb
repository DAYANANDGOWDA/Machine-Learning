{
 "cells": [
  {
   "cell_type": "markdown",
   "id": "9b740282-cb00-40f0-9762-ead6032c4284",
   "metadata": {},
   "source": [
    "## Importing Libraries"
   ]
  },
  {
   "cell_type": "code",
   "execution_count": 5,
   "id": "67c82176-8039-44bd-abf5-820eaa08e4b9",
   "metadata": {},
   "outputs": [],
   "source": [
    "import pandas as pd                                      \n",
    "import numpy as np                                      \n",
    "import seaborn as sns                                   \n",
    "import matplotlib.pyplot as plt                         \n",
    "from warnings import filterwarnings\n",
    "filterwarnings('ignore')"
   ]
  },
  {
   "cell_type": "markdown",
   "id": "b86222e9-27b5-4b5c-834f-10045239623e",
   "metadata": {},
   "source": [
    "## Loading dataset"
   ]
  },
  {
   "cell_type": "code",
   "execution_count": 7,
   "id": "5f82538f-dfda-45be-83e8-7b78cdc83f3b",
   "metadata": {},
   "outputs": [],
   "source": [
    "df = pd.read_csv('Fraud.csv')"
   ]
  },
  {
   "cell_type": "code",
   "execution_count": 8,
   "id": "9351b18b-b14a-4ec1-bb93-1af2a6e65265",
   "metadata": {},
   "outputs": [
    {
     "data": {
      "text/html": [
       "<div>\n",
       "<style scoped>\n",
       "    .dataframe tbody tr th:only-of-type {\n",
       "        vertical-align: middle;\n",
       "    }\n",
       "\n",
       "    .dataframe tbody tr th {\n",
       "        vertical-align: top;\n",
       "    }\n",
       "\n",
       "    .dataframe thead th {\n",
       "        text-align: right;\n",
       "    }\n",
       "</style>\n",
       "<table border=\"1\" class=\"dataframe\">\n",
       "  <thead>\n",
       "    <tr style=\"text-align: right;\">\n",
       "      <th></th>\n",
       "      <th>step</th>\n",
       "      <th>type</th>\n",
       "      <th>amount</th>\n",
       "      <th>nameOrig</th>\n",
       "      <th>oldbalanceOrg</th>\n",
       "      <th>newbalanceOrig</th>\n",
       "      <th>nameDest</th>\n",
       "      <th>oldbalanceDest</th>\n",
       "      <th>newbalanceDest</th>\n",
       "      <th>isFraud</th>\n",
       "      <th>isFlaggedFraud</th>\n",
       "    </tr>\n",
       "  </thead>\n",
       "  <tbody>\n",
       "    <tr>\n",
       "      <th>0</th>\n",
       "      <td>1</td>\n",
       "      <td>PAYMENT</td>\n",
       "      <td>9839.64</td>\n",
       "      <td>C1231006815</td>\n",
       "      <td>170136.0</td>\n",
       "      <td>160296.36</td>\n",
       "      <td>M1979787155</td>\n",
       "      <td>0.0</td>\n",
       "      <td>0.0</td>\n",
       "      <td>0</td>\n",
       "      <td>0</td>\n",
       "    </tr>\n",
       "    <tr>\n",
       "      <th>1</th>\n",
       "      <td>1</td>\n",
       "      <td>PAYMENT</td>\n",
       "      <td>1864.28</td>\n",
       "      <td>C1666544295</td>\n",
       "      <td>21249.0</td>\n",
       "      <td>19384.72</td>\n",
       "      <td>M2044282225</td>\n",
       "      <td>0.0</td>\n",
       "      <td>0.0</td>\n",
       "      <td>0</td>\n",
       "      <td>0</td>\n",
       "    </tr>\n",
       "    <tr>\n",
       "      <th>2</th>\n",
       "      <td>1</td>\n",
       "      <td>TRANSFER</td>\n",
       "      <td>181.00</td>\n",
       "      <td>C1305486145</td>\n",
       "      <td>181.0</td>\n",
       "      <td>0.00</td>\n",
       "      <td>C553264065</td>\n",
       "      <td>0.0</td>\n",
       "      <td>0.0</td>\n",
       "      <td>1</td>\n",
       "      <td>0</td>\n",
       "    </tr>\n",
       "    <tr>\n",
       "      <th>3</th>\n",
       "      <td>1</td>\n",
       "      <td>CASH_OUT</td>\n",
       "      <td>181.00</td>\n",
       "      <td>C840083671</td>\n",
       "      <td>181.0</td>\n",
       "      <td>0.00</td>\n",
       "      <td>C38997010</td>\n",
       "      <td>21182.0</td>\n",
       "      <td>0.0</td>\n",
       "      <td>1</td>\n",
       "      <td>0</td>\n",
       "    </tr>\n",
       "    <tr>\n",
       "      <th>4</th>\n",
       "      <td>1</td>\n",
       "      <td>PAYMENT</td>\n",
       "      <td>11668.14</td>\n",
       "      <td>C2048537720</td>\n",
       "      <td>41554.0</td>\n",
       "      <td>29885.86</td>\n",
       "      <td>M1230701703</td>\n",
       "      <td>0.0</td>\n",
       "      <td>0.0</td>\n",
       "      <td>0</td>\n",
       "      <td>0</td>\n",
       "    </tr>\n",
       "  </tbody>\n",
       "</table>\n",
       "</div>"
      ],
      "text/plain": [
       "   step      type    amount     nameOrig  oldbalanceOrg  newbalanceOrig  \\\n",
       "0     1   PAYMENT   9839.64  C1231006815       170136.0       160296.36   \n",
       "1     1   PAYMENT   1864.28  C1666544295        21249.0        19384.72   \n",
       "2     1  TRANSFER    181.00  C1305486145          181.0            0.00   \n",
       "3     1  CASH_OUT    181.00   C840083671          181.0            0.00   \n",
       "4     1   PAYMENT  11668.14  C2048537720        41554.0        29885.86   \n",
       "\n",
       "      nameDest  oldbalanceDest  newbalanceDest  isFraud  isFlaggedFraud  \n",
       "0  M1979787155             0.0             0.0        0               0  \n",
       "1  M2044282225             0.0             0.0        0               0  \n",
       "2   C553264065             0.0             0.0        1               0  \n",
       "3    C38997010         21182.0             0.0        1               0  \n",
       "4  M1230701703             0.0             0.0        0               0  "
      ]
     },
     "execution_count": 8,
     "metadata": {},
     "output_type": "execute_result"
    }
   ],
   "source": [
    "df.head()"
   ]
  },
  {
   "cell_type": "markdown",
   "id": "88c72202-8104-4bc6-8c83-2ce58ebf52b3",
   "metadata": {},
   "source": [
    "## EDA"
   ]
  },
  {
   "cell_type": "code",
   "execution_count": 10,
   "id": "541caf23-22d0-486e-8c1f-138186539fce",
   "metadata": {},
   "outputs": [
    {
     "data": {
      "text/plain": [
       "(6362620, 11)"
      ]
     },
     "execution_count": 10,
     "metadata": {},
     "output_type": "execute_result"
    }
   ],
   "source": [
    "df.shape"
   ]
  },
  {
   "cell_type": "code",
   "execution_count": 11,
   "id": "f9595a3b-aca8-416c-87d6-a329adf1ef30",
   "metadata": {},
   "outputs": [
    {
     "name": "stdout",
     "output_type": "stream",
     "text": [
      "<class 'pandas.core.frame.DataFrame'>\n",
      "RangeIndex: 6362620 entries, 0 to 6362619\n",
      "Data columns (total 11 columns):\n",
      " #   Column          Dtype  \n",
      "---  ------          -----  \n",
      " 0   step            int64  \n",
      " 1   type            object \n",
      " 2   amount          float64\n",
      " 3   nameOrig        object \n",
      " 4   oldbalanceOrg   float64\n",
      " 5   newbalanceOrig  float64\n",
      " 6   nameDest        object \n",
      " 7   oldbalanceDest  float64\n",
      " 8   newbalanceDest  float64\n",
      " 9   isFraud         int64  \n",
      " 10  isFlaggedFraud  int64  \n",
      "dtypes: float64(5), int64(3), object(3)\n",
      "memory usage: 534.0+ MB\n"
     ]
    }
   ],
   "source": [
    "df.info()    "
   ]
  },
  {
   "cell_type": "code",
   "execution_count": 12,
   "id": "9f4a6331-db18-46ae-91bb-88b2db79d857",
   "metadata": {},
   "outputs": [
    {
     "data": {
      "text/html": [
       "<div>\n",
       "<style scoped>\n",
       "    .dataframe tbody tr th:only-of-type {\n",
       "        vertical-align: middle;\n",
       "    }\n",
       "\n",
       "    .dataframe tbody tr th {\n",
       "        vertical-align: top;\n",
       "    }\n",
       "\n",
       "    .dataframe thead th {\n",
       "        text-align: right;\n",
       "    }\n",
       "</style>\n",
       "<table border=\"1\" class=\"dataframe\">\n",
       "  <thead>\n",
       "    <tr style=\"text-align: right;\">\n",
       "      <th></th>\n",
       "      <th>step</th>\n",
       "      <th>amount</th>\n",
       "      <th>oldbalanceOrg</th>\n",
       "      <th>newbalanceOrig</th>\n",
       "      <th>oldbalanceDest</th>\n",
       "      <th>newbalanceDest</th>\n",
       "      <th>isFraud</th>\n",
       "      <th>isFlaggedFraud</th>\n",
       "    </tr>\n",
       "  </thead>\n",
       "  <tbody>\n",
       "    <tr>\n",
       "      <th>count</th>\n",
       "      <td>6.362620e+06</td>\n",
       "      <td>6.362620e+06</td>\n",
       "      <td>6.362620e+06</td>\n",
       "      <td>6.362620e+06</td>\n",
       "      <td>6.362620e+06</td>\n",
       "      <td>6.362620e+06</td>\n",
       "      <td>6.362620e+06</td>\n",
       "      <td>6.362620e+06</td>\n",
       "    </tr>\n",
       "    <tr>\n",
       "      <th>mean</th>\n",
       "      <td>2.433972e+02</td>\n",
       "      <td>1.798619e+05</td>\n",
       "      <td>8.338831e+05</td>\n",
       "      <td>8.551137e+05</td>\n",
       "      <td>1.100702e+06</td>\n",
       "      <td>1.224996e+06</td>\n",
       "      <td>1.290820e-03</td>\n",
       "      <td>2.514687e-06</td>\n",
       "    </tr>\n",
       "    <tr>\n",
       "      <th>std</th>\n",
       "      <td>1.423320e+02</td>\n",
       "      <td>6.038582e+05</td>\n",
       "      <td>2.888243e+06</td>\n",
       "      <td>2.924049e+06</td>\n",
       "      <td>3.399180e+06</td>\n",
       "      <td>3.674129e+06</td>\n",
       "      <td>3.590480e-02</td>\n",
       "      <td>1.585775e-03</td>\n",
       "    </tr>\n",
       "    <tr>\n",
       "      <th>min</th>\n",
       "      <td>1.000000e+00</td>\n",
       "      <td>0.000000e+00</td>\n",
       "      <td>0.000000e+00</td>\n",
       "      <td>0.000000e+00</td>\n",
       "      <td>0.000000e+00</td>\n",
       "      <td>0.000000e+00</td>\n",
       "      <td>0.000000e+00</td>\n",
       "      <td>0.000000e+00</td>\n",
       "    </tr>\n",
       "    <tr>\n",
       "      <th>25%</th>\n",
       "      <td>1.560000e+02</td>\n",
       "      <td>1.338957e+04</td>\n",
       "      <td>0.000000e+00</td>\n",
       "      <td>0.000000e+00</td>\n",
       "      <td>0.000000e+00</td>\n",
       "      <td>0.000000e+00</td>\n",
       "      <td>0.000000e+00</td>\n",
       "      <td>0.000000e+00</td>\n",
       "    </tr>\n",
       "    <tr>\n",
       "      <th>50%</th>\n",
       "      <td>2.390000e+02</td>\n",
       "      <td>7.487194e+04</td>\n",
       "      <td>1.420800e+04</td>\n",
       "      <td>0.000000e+00</td>\n",
       "      <td>1.327057e+05</td>\n",
       "      <td>2.146614e+05</td>\n",
       "      <td>0.000000e+00</td>\n",
       "      <td>0.000000e+00</td>\n",
       "    </tr>\n",
       "    <tr>\n",
       "      <th>75%</th>\n",
       "      <td>3.350000e+02</td>\n",
       "      <td>2.087215e+05</td>\n",
       "      <td>1.073152e+05</td>\n",
       "      <td>1.442584e+05</td>\n",
       "      <td>9.430367e+05</td>\n",
       "      <td>1.111909e+06</td>\n",
       "      <td>0.000000e+00</td>\n",
       "      <td>0.000000e+00</td>\n",
       "    </tr>\n",
       "    <tr>\n",
       "      <th>max</th>\n",
       "      <td>7.430000e+02</td>\n",
       "      <td>9.244552e+07</td>\n",
       "      <td>5.958504e+07</td>\n",
       "      <td>4.958504e+07</td>\n",
       "      <td>3.560159e+08</td>\n",
       "      <td>3.561793e+08</td>\n",
       "      <td>1.000000e+00</td>\n",
       "      <td>1.000000e+00</td>\n",
       "    </tr>\n",
       "  </tbody>\n",
       "</table>\n",
       "</div>"
      ],
      "text/plain": [
       "               step        amount  oldbalanceOrg  newbalanceOrig  \\\n",
       "count  6.362620e+06  6.362620e+06   6.362620e+06    6.362620e+06   \n",
       "mean   2.433972e+02  1.798619e+05   8.338831e+05    8.551137e+05   \n",
       "std    1.423320e+02  6.038582e+05   2.888243e+06    2.924049e+06   \n",
       "min    1.000000e+00  0.000000e+00   0.000000e+00    0.000000e+00   \n",
       "25%    1.560000e+02  1.338957e+04   0.000000e+00    0.000000e+00   \n",
       "50%    2.390000e+02  7.487194e+04   1.420800e+04    0.000000e+00   \n",
       "75%    3.350000e+02  2.087215e+05   1.073152e+05    1.442584e+05   \n",
       "max    7.430000e+02  9.244552e+07   5.958504e+07    4.958504e+07   \n",
       "\n",
       "       oldbalanceDest  newbalanceDest       isFraud  isFlaggedFraud  \n",
       "count    6.362620e+06    6.362620e+06  6.362620e+06    6.362620e+06  \n",
       "mean     1.100702e+06    1.224996e+06  1.290820e-03    2.514687e-06  \n",
       "std      3.399180e+06    3.674129e+06  3.590480e-02    1.585775e-03  \n",
       "min      0.000000e+00    0.000000e+00  0.000000e+00    0.000000e+00  \n",
       "25%      0.000000e+00    0.000000e+00  0.000000e+00    0.000000e+00  \n",
       "50%      1.327057e+05    2.146614e+05  0.000000e+00    0.000000e+00  \n",
       "75%      9.430367e+05    1.111909e+06  0.000000e+00    0.000000e+00  \n",
       "max      3.560159e+08    3.561793e+08  1.000000e+00    1.000000e+00  "
      ]
     },
     "execution_count": 12,
     "metadata": {},
     "output_type": "execute_result"
    }
   ],
   "source": [
    "df.describe()"
   ]
  },
  {
   "cell_type": "code",
   "execution_count": 13,
   "id": "8c22a815-614b-4001-a5fd-37c1254d0ae7",
   "metadata": {},
   "outputs": [
    {
     "data": {
      "text/html": [
       "<div>\n",
       "<style scoped>\n",
       "    .dataframe tbody tr th:only-of-type {\n",
       "        vertical-align: middle;\n",
       "    }\n",
       "\n",
       "    .dataframe tbody tr th {\n",
       "        vertical-align: top;\n",
       "    }\n",
       "\n",
       "    .dataframe thead th {\n",
       "        text-align: right;\n",
       "    }\n",
       "</style>\n",
       "<table border=\"1\" class=\"dataframe\">\n",
       "  <thead>\n",
       "    <tr style=\"text-align: right;\">\n",
       "      <th></th>\n",
       "      <th>type</th>\n",
       "      <th>nameOrig</th>\n",
       "      <th>nameDest</th>\n",
       "    </tr>\n",
       "  </thead>\n",
       "  <tbody>\n",
       "    <tr>\n",
       "      <th>count</th>\n",
       "      <td>6362620</td>\n",
       "      <td>6362620</td>\n",
       "      <td>6362620</td>\n",
       "    </tr>\n",
       "    <tr>\n",
       "      <th>unique</th>\n",
       "      <td>5</td>\n",
       "      <td>6353307</td>\n",
       "      <td>2722362</td>\n",
       "    </tr>\n",
       "    <tr>\n",
       "      <th>top</th>\n",
       "      <td>CASH_OUT</td>\n",
       "      <td>C1902386530</td>\n",
       "      <td>C1286084959</td>\n",
       "    </tr>\n",
       "    <tr>\n",
       "      <th>freq</th>\n",
       "      <td>2237500</td>\n",
       "      <td>3</td>\n",
       "      <td>113</td>\n",
       "    </tr>\n",
       "  </tbody>\n",
       "</table>\n",
       "</div>"
      ],
      "text/plain": [
       "            type     nameOrig     nameDest\n",
       "count    6362620      6362620      6362620\n",
       "unique         5      6353307      2722362\n",
       "top     CASH_OUT  C1902386530  C1286084959\n",
       "freq     2237500            3          113"
      ]
     },
     "execution_count": 13,
     "metadata": {},
     "output_type": "execute_result"
    }
   ],
   "source": [
    "df.describe(include = 'object')"
   ]
  },
  {
   "cell_type": "code",
   "execution_count": 14,
   "id": "76f5002a-f208-465b-9deb-a7989b70a4e2",
   "metadata": {},
   "outputs": [
    {
     "data": {
      "text/plain": [
       "step              0\n",
       "type              0\n",
       "amount            0\n",
       "nameOrig          0\n",
       "oldbalanceOrg     0\n",
       "newbalanceOrig    0\n",
       "nameDest          0\n",
       "oldbalanceDest    0\n",
       "newbalanceDest    0\n",
       "isFraud           0\n",
       "isFlaggedFraud    0\n",
       "dtype: int64"
      ]
     },
     "execution_count": 14,
     "metadata": {},
     "output_type": "execute_result"
    }
   ],
   "source": [
    "df.isnull().sum()   "
   ]
  },
  {
   "cell_type": "code",
   "execution_count": 15,
   "id": "2d09e975-fed0-4acb-955d-d33c64e8b4d1",
   "metadata": {},
   "outputs": [
    {
     "data": {
      "text/html": [
       "<div>\n",
       "<style scoped>\n",
       "    .dataframe tbody tr th:only-of-type {\n",
       "        vertical-align: middle;\n",
       "    }\n",
       "\n",
       "    .dataframe tbody tr th {\n",
       "        vertical-align: top;\n",
       "    }\n",
       "\n",
       "    .dataframe thead th {\n",
       "        text-align: right;\n",
       "    }\n",
       "</style>\n",
       "<table border=\"1\" class=\"dataframe\">\n",
       "  <thead>\n",
       "    <tr style=\"text-align: right;\">\n",
       "      <th></th>\n",
       "      <th>step</th>\n",
       "      <th>type</th>\n",
       "      <th>amount</th>\n",
       "      <th>nameOrig</th>\n",
       "      <th>oldbalanceOrg</th>\n",
       "      <th>newbalanceOrig</th>\n",
       "      <th>nameDest</th>\n",
       "      <th>oldbalanceDest</th>\n",
       "      <th>newbalanceDest</th>\n",
       "      <th>isFraud</th>\n",
       "      <th>isFlaggedFraud</th>\n",
       "    </tr>\n",
       "  </thead>\n",
       "  <tbody>\n",
       "  </tbody>\n",
       "</table>\n",
       "</div>"
      ],
      "text/plain": [
       "Empty DataFrame\n",
       "Columns: [step, type, amount, nameOrig, oldbalanceOrg, newbalanceOrig, nameDest, oldbalanceDest, newbalanceDest, isFraud, isFlaggedFraud]\n",
       "Index: []"
      ]
     },
     "execution_count": 15,
     "metadata": {},
     "output_type": "execute_result"
    }
   ],
   "source": [
    "df[df.duplicated()] "
   ]
  },
  {
   "cell_type": "code",
   "execution_count": 16,
   "id": "d10b4362-730d-48e0-95aa-776e8b09bb22",
   "metadata": {},
   "outputs": [
    {
     "data": {
      "text/plain": [
       "Index(['step', 'type', 'amount', 'nameOrig', 'oldbalanceOrg', 'newbalanceOrig',\n",
       "       'nameDest', 'oldbalanceDest', 'newbalanceDest', 'isFraud',\n",
       "       'isFlaggedFraud'],\n",
       "      dtype='object')"
      ]
     },
     "execution_count": 16,
     "metadata": {},
     "output_type": "execute_result"
    }
   ],
   "source": [
    "df.columns"
   ]
  },
  {
   "cell_type": "code",
   "execution_count": 17,
   "id": "8ff231dc-ae01-43c9-b40e-cda764c3fd28",
   "metadata": {},
   "outputs": [
    {
     "data": {
      "text/html": [
       "<div>\n",
       "<style scoped>\n",
       "    .dataframe tbody tr th:only-of-type {\n",
       "        vertical-align: middle;\n",
       "    }\n",
       "\n",
       "    .dataframe tbody tr th {\n",
       "        vertical-align: top;\n",
       "    }\n",
       "\n",
       "    .dataframe thead th {\n",
       "        text-align: right;\n",
       "    }\n",
       "</style>\n",
       "<table border=\"1\" class=\"dataframe\">\n",
       "  <thead>\n",
       "    <tr style=\"text-align: right;\">\n",
       "      <th></th>\n",
       "      <th>step</th>\n",
       "      <th>amount</th>\n",
       "      <th>oldbalanceOrg</th>\n",
       "      <th>newbalanceOrig</th>\n",
       "      <th>oldbalanceDest</th>\n",
       "      <th>newbalanceDest</th>\n",
       "      <th>isFlaggedFraud</th>\n",
       "    </tr>\n",
       "  </thead>\n",
       "  <tbody>\n",
       "    <tr>\n",
       "      <th>step</th>\n",
       "      <td>1.000000</td>\n",
       "      <td>0.022373</td>\n",
       "      <td>-0.010058</td>\n",
       "      <td>-0.010299</td>\n",
       "      <td>0.027665</td>\n",
       "      <td>0.025888</td>\n",
       "      <td>0.003277</td>\n",
       "    </tr>\n",
       "    <tr>\n",
       "      <th>amount</th>\n",
       "      <td>0.022373</td>\n",
       "      <td>1.000000</td>\n",
       "      <td>-0.002762</td>\n",
       "      <td>-0.007861</td>\n",
       "      <td>0.294137</td>\n",
       "      <td>0.459304</td>\n",
       "      <td>0.012295</td>\n",
       "    </tr>\n",
       "    <tr>\n",
       "      <th>oldbalanceOrg</th>\n",
       "      <td>-0.010058</td>\n",
       "      <td>-0.002762</td>\n",
       "      <td>1.000000</td>\n",
       "      <td>0.998803</td>\n",
       "      <td>0.066243</td>\n",
       "      <td>0.042029</td>\n",
       "      <td>0.003835</td>\n",
       "    </tr>\n",
       "    <tr>\n",
       "      <th>newbalanceOrig</th>\n",
       "      <td>-0.010299</td>\n",
       "      <td>-0.007861</td>\n",
       "      <td>0.998803</td>\n",
       "      <td>1.000000</td>\n",
       "      <td>0.067812</td>\n",
       "      <td>0.041837</td>\n",
       "      <td>0.003776</td>\n",
       "    </tr>\n",
       "    <tr>\n",
       "      <th>oldbalanceDest</th>\n",
       "      <td>0.027665</td>\n",
       "      <td>0.294137</td>\n",
       "      <td>0.066243</td>\n",
       "      <td>0.067812</td>\n",
       "      <td>1.000000</td>\n",
       "      <td>0.976569</td>\n",
       "      <td>-0.000513</td>\n",
       "    </tr>\n",
       "    <tr>\n",
       "      <th>newbalanceDest</th>\n",
       "      <td>0.025888</td>\n",
       "      <td>0.459304</td>\n",
       "      <td>0.042029</td>\n",
       "      <td>0.041837</td>\n",
       "      <td>0.976569</td>\n",
       "      <td>1.000000</td>\n",
       "      <td>-0.000529</td>\n",
       "    </tr>\n",
       "    <tr>\n",
       "      <th>isFlaggedFraud</th>\n",
       "      <td>0.003277</td>\n",
       "      <td>0.012295</td>\n",
       "      <td>0.003835</td>\n",
       "      <td>0.003776</td>\n",
       "      <td>-0.000513</td>\n",
       "      <td>-0.000529</td>\n",
       "      <td>1.000000</td>\n",
       "    </tr>\n",
       "  </tbody>\n",
       "</table>\n",
       "</div>"
      ],
      "text/plain": [
       "                    step    amount  oldbalanceOrg  newbalanceOrig  \\\n",
       "step            1.000000  0.022373      -0.010058       -0.010299   \n",
       "amount          0.022373  1.000000      -0.002762       -0.007861   \n",
       "oldbalanceOrg  -0.010058 -0.002762       1.000000        0.998803   \n",
       "newbalanceOrig -0.010299 -0.007861       0.998803        1.000000   \n",
       "oldbalanceDest  0.027665  0.294137       0.066243        0.067812   \n",
       "newbalanceDest  0.025888  0.459304       0.042029        0.041837   \n",
       "isFlaggedFraud  0.003277  0.012295       0.003835        0.003776   \n",
       "\n",
       "                oldbalanceDest  newbalanceDest  isFlaggedFraud  \n",
       "step                  0.027665        0.025888        0.003277  \n",
       "amount                0.294137        0.459304        0.012295  \n",
       "oldbalanceOrg         0.066243        0.042029        0.003835  \n",
       "newbalanceOrig        0.067812        0.041837        0.003776  \n",
       "oldbalanceDest        1.000000        0.976569       -0.000513  \n",
       "newbalanceDest        0.976569        1.000000       -0.000529  \n",
       "isFlaggedFraud       -0.000513       -0.000529        1.000000  "
      ]
     },
     "execution_count": 17,
     "metadata": {},
     "output_type": "execute_result"
    }
   ],
   "source": [
    "df[['step', 'amount',  'oldbalanceOrg', 'newbalanceOrig','oldbalanceDest', 'newbalanceDest', 'isFlaggedFraud']].corr()"
   ]
  },
  {
   "cell_type": "code",
   "execution_count": 18,
   "id": "f5078647-ce93-417d-a3f2-f42a933c5fa1",
   "metadata": {},
   "outputs": [
    {
     "data": {
      "image/png": "[encoded data removed]",
      "text/plain": [
       "<Figure size 1000x600 with 2 Axes>"
      ]
     },
     "metadata": {},
     "output_type": "display_data"
    }
   ],
   "source": [
    "plt.figure(figsize=(10,6))\n",
    "sns.heatmap(df[['step', 'amount',  'oldbalanceOrg', 'newbalanceOrig','oldbalanceDest', 'newbalanceDest', 'isFlaggedFraud']].corr(), annot=True, cmap=\"coolwarm\", linewidths=0.5)\n",
    "plt.title(\"Feature Correlation Matrix\")\n",
    "plt.show()"
   ]
  },
  {
   "cell_type": "code",
   "execution_count": 19,
   "id": "99deca6d-a85f-4641-9118-bdfa9f52445f",
   "metadata": {},
   "outputs": [
    {
     "name": "stdout",
     "output_type": "stream",
     "text": [
      "          Feature         VIF\n",
      "0            step    1.188500\n",
      "1          amount    4.013501\n",
      "2   oldbalanceOrg  465.124566\n",
      "3  newbalanceOrig  466.906067\n",
      "4  oldbalanceDest   71.790542\n",
      "5  newbalanceDest   83.263477\n",
      "6  isFlaggedFraud    1.000569\n"
     ]
    }
   ],
   "source": [
    "from statsmodels.stats.outliers_influence import variance_inflation_factor\n",
    "\n",
    "X = df[['step', 'amount',  'oldbalanceOrg', 'newbalanceOrig','oldbalanceDest', 'newbalanceDest', 'isFlaggedFraud']]  \n",
    "\n",
    "# Calculate VIF\n",
    "vif_data = pd.DataFrame()\n",
    "vif_data[\"Feature\"] = X.columns\n",
    "vif_data[\"VIF\"] = [variance_inflation_factor(X.values, i) for i in range(X.shape[1])]\n",
    "\n",
    "print(vif_data)\n"
   ]
  },
  {
   "cell_type": "markdown",
   "id": "40646ef5-751c-4f10-beb5-fdc7f222aebd",
   "metadata": {},
   "source": [
    "Observation 1 ::--\n",
    "newbalanceorig and oldbalanceorig have 100% correlated to each other and vif > 10\n",
    "newbalancedest and oldbalancedest have 98% correlated to each other and vif >10\n",
    "\n",
    "So we can drop any one of the column from both of them "
   ]
  },
  {
   "cell_type": "markdown",
   "id": "9e80d065-58ed-4ee5-b5c3-37376c31ff19",
   "metadata": {},
   "source": [
    "Observation 2 ::--\n",
    "Can drop nameDest and nameOrig columns which is not needed"
   ]
  },
  {
   "cell_type": "markdown",
   "id": "ce0938aa-d9c9-4fcc-8841-a9b263485cff",
   "metadata": {},
   "source": [
    "### Copy original data"
   ]
  },
  {
   "cell_type": "code",
   "execution_count": 23,
   "id": "80c5aa43-d32a-4064-9523-b82602d9b143",
   "metadata": {},
   "outputs": [],
   "source": [
    "df1 = df.copy(deep = True)"
   ]
  },
  {
   "cell_type": "markdown",
   "id": "b201b637-fcd9-40f1-a97e-4e340ecf4ad3",
   "metadata": {},
   "source": [
    "### Droping unwanted columns"
   ]
  },
  {
   "cell_type": "code",
   "execution_count": 25,
   "id": "ddca5507-9954-495b-9234-4ec1d2d30e06",
   "metadata": {},
   "outputs": [],
   "source": [
    "df.drop(columns = 'oldbalanceOrg',inplace = True)"
   ]
  },
  {
   "cell_type": "code",
   "execution_count": 26,
   "id": "648770df-2cce-4e86-9f09-d1e138256b25",
   "metadata": {},
   "outputs": [],
   "source": [
    "df.drop(columns = 'oldbalanceDest',inplace = True)"
   ]
  },
  {
   "cell_type": "code",
   "execution_count": 27,
   "id": "bc494bff-223c-4f03-a284-1b819d0fba91",
   "metadata": {},
   "outputs": [],
   "source": [
    "df.drop(columns = 'nameOrig',inplace = True)"
   ]
  },
  {
   "cell_type": "code",
   "execution_count": 28,
   "id": "76c8532a-f304-4227-96e2-df80b13cf84b",
   "metadata": {},
   "outputs": [],
   "source": [
    "df.drop(columns = 'nameDest',inplace = True)"
   ]
  },
  {
   "cell_type": "code",
   "execution_count": null,
   "id": "c602b378-cc58-4113-8dbb-ca96e27418f1",
   "metadata": {},
   "outputs": [],
   "source": []
  },
  {
   "cell_type": "code",
   "execution_count": 30,
   "id": "50505db3-3f3d-4cbc-839c-8f71c9ca4e14",
   "metadata": {},
   "outputs": [
    {
     "name": "stdout",
     "output_type": "stream",
     "text": [
      "          Feature       VIF\n",
      "0            step  1.161500\n",
      "1          amount  1.373794\n",
      "2  newbalanceOrig  1.064388\n",
      "3  newbalanceDest  1.401915\n",
      "4  isFlaggedFraud  1.000218\n"
     ]
    }
   ],
   "source": [
    "from statsmodels.stats.outliers_influence import variance_inflation_factor   \n",
    "\n",
    "\n",
    "# Sample dataset (excluding target variable)\n",
    "X = df[['step', 'amount', 'newbalanceOrig','newbalanceDest', 'isFlaggedFraud']]  \n",
    "\n",
    "vif_data = pd.DataFrame()\n",
    "vif_data[\"Feature\"] = X.columns\n",
    "vif_data[\"VIF\"] = [variance_inflation_factor(X.values, i) for i in range(X.shape[1])]\n",
    "\n",
    "print(vif_data)\n"
   ]
  },
  {
   "cell_type": "code",
   "execution_count": null,
   "id": "6e8481da-5391-4fa7-868c-5dd9d6ee0c2d",
   "metadata": {},
   "outputs": [],
   "source": []
  },
  {
   "cell_type": "markdown",
   "id": "e89ff45a-f4ee-4f65-bce6-43e5ac52439e",
   "metadata": {},
   "source": [
    "### Checking for outliers"
   ]
  },
  {
   "cell_type": "code",
   "execution_count": 33,
   "id": "0b0128fc-bcf9-4511-8773-073106c5caae",
   "metadata": {},
   "outputs": [
    {
     "data": {
      "image/png": "[encoded data removed]",
      "text/plain": [
       "<Figure size 600x400 with 1 Axes>"
      ]
     },
     "metadata": {},
     "output_type": "display_data"
    },
    {
     "data": {
      "image/png": "[encoded data removed]",
      "text/plain": [
       "<Figure size 600x400 with 1 Axes>"
      ]
     },
     "metadata": {},
     "output_type": "display_data"
    },
    {
     "data": {
      "image/png": "[encoded data removed]",
      "text/plain": [
       "<Figure size 600x400 with 1 Axes>"
      ]
     },
     "metadata": {},
     "output_type": "display_data"
    },
    {
     "data": {
      "image/png": "[encoded data removed]",
      "text/plain": [
       "<Figure size 600x400 with 1 Axes>"
      ]
     },
     "metadata": {},
     "output_type": "display_data"
    }
   ],
   "source": [
    "columns = ['step', 'amount', 'newbalanceOrig', 'newbalanceDest']\n",
    "\n",
    "for i in columns:\n",
    "    plt.figure(figsize=(6, 4))  \n",
    "    sns.boxplot(x=df[i])  \n",
    "    plt.title(f\"Boxplot of {i}\")  #\n",
    "    plt.show() "
   ]
  },
  {
   "cell_type": "code",
   "execution_count": 34,
   "id": "1a8a2086-b9d9-4887-8ed0-0d5dcffff260",
   "metadata": {},
   "outputs": [],
   "source": [
    "lis = [ 'isFlaggedFraud','step','type']"
   ]
  },
  {
   "cell_type": "code",
   "execution_count": 35,
   "id": "836939f2-b77c-44fe-9ae8-4d91c3071752",
   "metadata": {},
   "outputs": [
    {
     "name": "stdout",
     "output_type": "stream",
     "text": [
      "isFlaggedFraud\n",
      "0    6362604\n",
      "1         16\n",
      "Name: count, dtype: int64\n",
      "2\n",
      "isFlaggedFraud  isFraud\n",
      "0               0           99.871169\n",
      "                1            0.128831\n",
      "1               1          100.000000\n",
      "Name: proportion, dtype: float64\n",
      "------------------------------------------------------------\n",
      "step\n",
      "19     51352\n",
      "18     49579\n",
      "187    49083\n",
      "235    47491\n",
      "307    46968\n",
      "       ...  \n",
      "432        4\n",
      "706        4\n",
      "693        4\n",
      "112        2\n",
      "662        2\n",
      "Name: count, Length: 743, dtype: int64\n",
      "743\n",
      "step  isFraud\n",
      "1     0           99.409158\n",
      "      1            0.590842\n",
      "2     0           99.211045\n",
      "      1            0.788955\n",
      "3     0           99.275362\n",
      "                    ...    \n",
      "739   1          100.000000\n",
      "740   1          100.000000\n",
      "741   1          100.000000\n",
      "742   1          100.000000\n",
      "743   1          100.000000\n",
      "Name: proportion, Length: 1164, dtype: float64\n",
      "------------------------------------------------------------\n",
      "type\n",
      "CASH_OUT    2237500\n",
      "PAYMENT     2151495\n",
      "CASH_IN     1399284\n",
      "TRANSFER     532909\n",
      "DEBIT         41432\n",
      "Name: count, dtype: int64\n",
      "5\n",
      "type      isFraud\n",
      "CASH_IN   0          100.000000\n",
      "CASH_OUT  0           99.816045\n",
      "          1            0.183955\n",
      "DEBIT     0          100.000000\n",
      "PAYMENT   0          100.000000\n",
      "TRANSFER  0           99.231201\n",
      "          1            0.768799\n",
      "Name: proportion, dtype: float64\n",
      "------------------------------------------------------------\n"
     ]
    }
   ],
   "source": [
    "for i in lis:\n",
    "    print(df1[i].value_counts())\n",
    "    print(df[i].nunique())\n",
    "    print(df1.groupby(i)['isFraud'].value_counts(normalize =True) * 100)\n",
    "    print('--'*30)"
   ]
  },
  {
   "cell_type": "markdown",
   "id": "fabf7155-cdc4-40c8-afcc-22884e553cff",
   "metadata": {},
   "source": [
    "Obervations ::--\n",
    "We can except fraud from CASH_OUT and TRANSFER type transactions\n",
    "All isFlaggedFraud true transactions are fraud"
   ]
  },
  {
   "cell_type": "code",
   "execution_count": null,
   "id": "6d9a237a-e510-41ac-ac55-ae642ae0daca",
   "metadata": {},
   "outputs": [],
   "source": []
  },
  {
   "cell_type": "code",
   "execution_count": 38,
   "id": "0f2e9042-5893-4b80-86af-23ddaee70092",
   "metadata": {},
   "outputs": [],
   "source": [
    "df2 = df.copy(deep = True)"
   ]
  },
  {
   "cell_type": "code",
   "execution_count": 39,
   "id": "ea7577bf-4437-4743-a143-7c87dabbce4c",
   "metadata": {},
   "outputs": [
    {
     "data": {
      "text/html": [
       "<div>\n",
       "<style scoped>\n",
       "    .dataframe tbody tr th:only-of-type {\n",
       "        vertical-align: middle;\n",
       "    }\n",
       "\n",
       "    .dataframe tbody tr th {\n",
       "        vertical-align: top;\n",
       "    }\n",
       "\n",
       "    .dataframe thead th {\n",
       "        text-align: right;\n",
       "    }\n",
       "</style>\n",
       "<table border=\"1\" class=\"dataframe\">\n",
       "  <thead>\n",
       "    <tr style=\"text-align: right;\">\n",
       "      <th></th>\n",
       "      <th>step</th>\n",
       "      <th>type</th>\n",
       "      <th>amount</th>\n",
       "      <th>newbalanceOrig</th>\n",
       "      <th>newbalanceDest</th>\n",
       "      <th>isFraud</th>\n",
       "      <th>isFlaggedFraud</th>\n",
       "    </tr>\n",
       "  </thead>\n",
       "  <tbody>\n",
       "    <tr>\n",
       "      <th>0</th>\n",
       "      <td>1</td>\n",
       "      <td>PAYMENT</td>\n",
       "      <td>9839.64</td>\n",
       "      <td>160296.36</td>\n",
       "      <td>0.00</td>\n",
       "      <td>0</td>\n",
       "      <td>0</td>\n",
       "    </tr>\n",
       "    <tr>\n",
       "      <th>1</th>\n",
       "      <td>1</td>\n",
       "      <td>PAYMENT</td>\n",
       "      <td>1864.28</td>\n",
       "      <td>19384.72</td>\n",
       "      <td>0.00</td>\n",
       "      <td>0</td>\n",
       "      <td>0</td>\n",
       "    </tr>\n",
       "    <tr>\n",
       "      <th>2</th>\n",
       "      <td>1</td>\n",
       "      <td>TRANSFER</td>\n",
       "      <td>181.00</td>\n",
       "      <td>0.00</td>\n",
       "      <td>0.00</td>\n",
       "      <td>1</td>\n",
       "      <td>0</td>\n",
       "    </tr>\n",
       "    <tr>\n",
       "      <th>3</th>\n",
       "      <td>1</td>\n",
       "      <td>CASH_OUT</td>\n",
       "      <td>181.00</td>\n",
       "      <td>0.00</td>\n",
       "      <td>0.00</td>\n",
       "      <td>1</td>\n",
       "      <td>0</td>\n",
       "    </tr>\n",
       "    <tr>\n",
       "      <th>4</th>\n",
       "      <td>1</td>\n",
       "      <td>PAYMENT</td>\n",
       "      <td>11668.14</td>\n",
       "      <td>29885.86</td>\n",
       "      <td>0.00</td>\n",
       "      <td>0</td>\n",
       "      <td>0</td>\n",
       "    </tr>\n",
       "    <tr>\n",
       "      <th>...</th>\n",
       "      <td>...</td>\n",
       "      <td>...</td>\n",
       "      <td>...</td>\n",
       "      <td>...</td>\n",
       "      <td>...</td>\n",
       "      <td>...</td>\n",
       "      <td>...</td>\n",
       "    </tr>\n",
       "    <tr>\n",
       "      <th>6362615</th>\n",
       "      <td>743</td>\n",
       "      <td>CASH_OUT</td>\n",
       "      <td>339682.13</td>\n",
       "      <td>0.00</td>\n",
       "      <td>339682.13</td>\n",
       "      <td>1</td>\n",
       "      <td>0</td>\n",
       "    </tr>\n",
       "    <tr>\n",
       "      <th>6362616</th>\n",
       "      <td>743</td>\n",
       "      <td>TRANSFER</td>\n",
       "      <td>6311409.28</td>\n",
       "      <td>0.00</td>\n",
       "      <td>0.00</td>\n",
       "      <td>1</td>\n",
       "      <td>0</td>\n",
       "    </tr>\n",
       "    <tr>\n",
       "      <th>6362617</th>\n",
       "      <td>743</td>\n",
       "      <td>CASH_OUT</td>\n",
       "      <td>6311409.28</td>\n",
       "      <td>0.00</td>\n",
       "      <td>6379898.11</td>\n",
       "      <td>1</td>\n",
       "      <td>0</td>\n",
       "    </tr>\n",
       "    <tr>\n",
       "      <th>6362618</th>\n",
       "      <td>743</td>\n",
       "      <td>TRANSFER</td>\n",
       "      <td>850002.52</td>\n",
       "      <td>0.00</td>\n",
       "      <td>0.00</td>\n",
       "      <td>1</td>\n",
       "      <td>0</td>\n",
       "    </tr>\n",
       "    <tr>\n",
       "      <th>6362619</th>\n",
       "      <td>743</td>\n",
       "      <td>CASH_OUT</td>\n",
       "      <td>850002.52</td>\n",
       "      <td>0.00</td>\n",
       "      <td>7360101.63</td>\n",
       "      <td>1</td>\n",
       "      <td>0</td>\n",
       "    </tr>\n",
       "  </tbody>\n",
       "</table>\n",
       "<p>6362620 rows × 7 columns</p>\n",
       "</div>"
      ],
      "text/plain": [
       "         step      type      amount  newbalanceOrig  newbalanceDest  isFraud  \\\n",
       "0           1   PAYMENT     9839.64       160296.36            0.00        0   \n",
       "1           1   PAYMENT     1864.28        19384.72            0.00        0   \n",
       "2           1  TRANSFER      181.00            0.00            0.00        1   \n",
       "3           1  CASH_OUT      181.00            0.00            0.00        1   \n",
       "4           1   PAYMENT    11668.14        29885.86            0.00        0   \n",
       "...       ...       ...         ...             ...             ...      ...   \n",
       "6362615   743  CASH_OUT   339682.13            0.00       339682.13        1   \n",
       "6362616   743  TRANSFER  6311409.28            0.00            0.00        1   \n",
       "6362617   743  CASH_OUT  6311409.28            0.00      6379898.11        1   \n",
       "6362618   743  TRANSFER   850002.52            0.00            0.00        1   \n",
       "6362619   743  CASH_OUT   850002.52            0.00      7360101.63        1   \n",
       "\n",
       "         isFlaggedFraud  \n",
       "0                     0  \n",
       "1                     0  \n",
       "2                     0  \n",
       "3                     0  \n",
       "4                     0  \n",
       "...                 ...  \n",
       "6362615               0  \n",
       "6362616               0  \n",
       "6362617               0  \n",
       "6362618               0  \n",
       "6362619               0  \n",
       "\n",
       "[6362620 rows x 7 columns]"
      ]
     },
     "execution_count": 39,
     "metadata": {},
     "output_type": "execute_result"
    }
   ],
   "source": [
    "df"
   ]
  },
  {
   "cell_type": "markdown",
   "id": "084d91bf-009e-4740-90ce-4f523a748740",
   "metadata": {},
   "source": [
    "## OneHot Encoding "
   ]
  },
  {
   "cell_type": "code",
   "execution_count": 41,
   "id": "0412fc3a-4e23-4282-9d8b-321fbd6c42e5",
   "metadata": {},
   "outputs": [],
   "source": [
    "df = pd.get_dummies(df,drop_first=True).astype(int)"
   ]
  },
  {
   "cell_type": "code",
   "execution_count": 42,
   "id": "d50f8191-5783-4ed8-a8e3-33c32fd9eab1",
   "metadata": {},
   "outputs": [
    {
     "data": {
      "text/html": [
       "<div>\n",
       "<style scoped>\n",
       "    .dataframe tbody tr th:only-of-type {\n",
       "        vertical-align: middle;\n",
       "    }\n",
       "\n",
       "    .dataframe tbody tr th {\n",
       "        vertical-align: top;\n",
       "    }\n",
       "\n",
       "    .dataframe thead th {\n",
       "        text-align: right;\n",
       "    }\n",
       "</style>\n",
       "<table border=\"1\" class=\"dataframe\">\n",
       "  <thead>\n",
       "    <tr style=\"text-align: right;\">\n",
       "      <th></th>\n",
       "      <th>step</th>\n",
       "      <th>amount</th>\n",
       "      <th>newbalanceOrig</th>\n",
       "      <th>newbalanceDest</th>\n",
       "      <th>isFraud</th>\n",
       "      <th>isFlaggedFraud</th>\n",
       "      <th>type_CASH_OUT</th>\n",
       "      <th>type_DEBIT</th>\n",
       "      <th>type_PAYMENT</th>\n",
       "      <th>type_TRANSFER</th>\n",
       "    </tr>\n",
       "  </thead>\n",
       "  <tbody>\n",
       "    <tr>\n",
       "      <th>0</th>\n",
       "      <td>1</td>\n",
       "      <td>9839</td>\n",
       "      <td>160296</td>\n",
       "      <td>0</td>\n",
       "      <td>0</td>\n",
       "      <td>0</td>\n",
       "      <td>0</td>\n",
       "      <td>0</td>\n",
       "      <td>1</td>\n",
       "      <td>0</td>\n",
       "    </tr>\n",
       "    <tr>\n",
       "      <th>1</th>\n",
       "      <td>1</td>\n",
       "      <td>1864</td>\n",
       "      <td>19384</td>\n",
       "      <td>0</td>\n",
       "      <td>0</td>\n",
       "      <td>0</td>\n",
       "      <td>0</td>\n",
       "      <td>0</td>\n",
       "      <td>1</td>\n",
       "      <td>0</td>\n",
       "    </tr>\n",
       "    <tr>\n",
       "      <th>2</th>\n",
       "      <td>1</td>\n",
       "      <td>181</td>\n",
       "      <td>0</td>\n",
       "      <td>0</td>\n",
       "      <td>1</td>\n",
       "      <td>0</td>\n",
       "      <td>0</td>\n",
       "      <td>0</td>\n",
       "      <td>0</td>\n",
       "      <td>1</td>\n",
       "    </tr>\n",
       "    <tr>\n",
       "      <th>3</th>\n",
       "      <td>1</td>\n",
       "      <td>181</td>\n",
       "      <td>0</td>\n",
       "      <td>0</td>\n",
       "      <td>1</td>\n",
       "      <td>0</td>\n",
       "      <td>1</td>\n",
       "      <td>0</td>\n",
       "      <td>0</td>\n",
       "      <td>0</td>\n",
       "    </tr>\n",
       "    <tr>\n",
       "      <th>4</th>\n",
       "      <td>1</td>\n",
       "      <td>11668</td>\n",
       "      <td>29885</td>\n",
       "      <td>0</td>\n",
       "      <td>0</td>\n",
       "      <td>0</td>\n",
       "      <td>0</td>\n",
       "      <td>0</td>\n",
       "      <td>1</td>\n",
       "      <td>0</td>\n",
       "    </tr>\n",
       "    <tr>\n",
       "      <th>...</th>\n",
       "      <td>...</td>\n",
       "      <td>...</td>\n",
       "      <td>...</td>\n",
       "      <td>...</td>\n",
       "      <td>...</td>\n",
       "      <td>...</td>\n",
       "      <td>...</td>\n",
       "      <td>...</td>\n",
       "      <td>...</td>\n",
       "      <td>...</td>\n",
       "    </tr>\n",
       "    <tr>\n",
       "      <th>6362615</th>\n",
       "      <td>743</td>\n",
       "      <td>339682</td>\n",
       "      <td>0</td>\n",
       "      <td>339682</td>\n",
       "      <td>1</td>\n",
       "      <td>0</td>\n",
       "      <td>1</td>\n",
       "      <td>0</td>\n",
       "      <td>0</td>\n",
       "      <td>0</td>\n",
       "    </tr>\n",
       "    <tr>\n",
       "      <th>6362616</th>\n",
       "      <td>743</td>\n",
       "      <td>6311409</td>\n",
       "      <td>0</td>\n",
       "      <td>0</td>\n",
       "      <td>1</td>\n",
       "      <td>0</td>\n",
       "      <td>0</td>\n",
       "      <td>0</td>\n",
       "      <td>0</td>\n",
       "      <td>1</td>\n",
       "    </tr>\n",
       "    <tr>\n",
       "      <th>6362617</th>\n",
       "      <td>743</td>\n",
       "      <td>6311409</td>\n",
       "      <td>0</td>\n",
       "      <td>6379898</td>\n",
       "      <td>1</td>\n",
       "      <td>0</td>\n",
       "      <td>1</td>\n",
       "      <td>0</td>\n",
       "      <td>0</td>\n",
       "      <td>0</td>\n",
       "    </tr>\n",
       "    <tr>\n",
       "      <th>6362618</th>\n",
       "      <td>743</td>\n",
       "      <td>850002</td>\n",
       "      <td>0</td>\n",
       "      <td>0</td>\n",
       "      <td>1</td>\n",
       "      <td>0</td>\n",
       "      <td>0</td>\n",
       "      <td>0</td>\n",
       "      <td>0</td>\n",
       "      <td>1</td>\n",
       "    </tr>\n",
       "    <tr>\n",
       "      <th>6362619</th>\n",
       "      <td>743</td>\n",
       "      <td>850002</td>\n",
       "      <td>0</td>\n",
       "      <td>7360101</td>\n",
       "      <td>1</td>\n",
       "      <td>0</td>\n",
       "      <td>1</td>\n",
       "      <td>0</td>\n",
       "      <td>0</td>\n",
       "      <td>0</td>\n",
       "    </tr>\n",
       "  </tbody>\n",
       "</table>\n",
       "<p>6362620 rows × 10 columns</p>\n",
       "</div>"
      ],
      "text/plain": [
       "         step   amount  newbalanceOrig  newbalanceDest  isFraud  \\\n",
       "0           1     9839          160296               0        0   \n",
       "1           1     1864           19384               0        0   \n",
       "2           1      181               0               0        1   \n",
       "3           1      181               0               0        1   \n",
       "4           1    11668           29885               0        0   \n",
       "...       ...      ...             ...             ...      ...   \n",
       "6362615   743   339682               0          339682        1   \n",
       "6362616   743  6311409               0               0        1   \n",
       "6362617   743  6311409               0         6379898        1   \n",
       "6362618   743   850002               0               0        1   \n",
       "6362619   743   850002               0         7360101        1   \n",
       "\n",
       "         isFlaggedFraud  type_CASH_OUT  type_DEBIT  type_PAYMENT  \\\n",
       "0                     0              0           0             1   \n",
       "1                     0              0           0             1   \n",
       "2                     0              0           0             0   \n",
       "3                     0              1           0             0   \n",
       "4                     0              0           0             1   \n",
       "...                 ...            ...         ...           ...   \n",
       "6362615               0              1           0             0   \n",
       "6362616               0              0           0             0   \n",
       "6362617               0              1           0             0   \n",
       "6362618               0              0           0             0   \n",
       "6362619               0              1           0             0   \n",
       "\n",
       "         type_TRANSFER  \n",
       "0                    0  \n",
       "1                    0  \n",
       "2                    1  \n",
       "3                    0  \n",
       "4                    0  \n",
       "...                ...  \n",
       "6362615              0  \n",
       "6362616              1  \n",
       "6362617              0  \n",
       "6362618              1  \n",
       "6362619              0  \n",
       "\n",
       "[6362620 rows x 10 columns]"
      ]
     },
     "execution_count": 42,
     "metadata": {},
     "output_type": "execute_result"
    }
   ],
   "source": [
    "df"
   ]
  },
  {
   "cell_type": "code",
   "execution_count": 43,
   "id": "6a409aa7-de01-457e-90a1-af14c4e804b2",
   "metadata": {},
   "outputs": [],
   "source": [
    "df.reset_index(drop=True, inplace=True)"
   ]
  },
  {
   "cell_type": "markdown",
   "id": "655b44f9-34e0-4b8a-8529-88220b1cfe1d",
   "metadata": {},
   "source": [
    "Observation ::--\n",
    "Data is not scaled so performing standard sacling"
   ]
  },
  {
   "cell_type": "code",
   "execution_count": null,
   "id": "fa01445c-3350-433c-8747-14fd8dd828d9",
   "metadata": {},
   "outputs": [],
   "source": []
  },
  {
   "cell_type": "markdown",
   "id": "31f3e9c9-2ad1-495f-802a-07f0e4cc589b",
   "metadata": {},
   "source": [
    "## Spliting testing and training set"
   ]
  },
  {
   "cell_type": "code",
   "execution_count": 47,
   "id": "435929f0-a7ac-4ad6-b413-5ebcd6db641f",
   "metadata": {},
   "outputs": [],
   "source": [
    "from sklearn.model_selection import train_test_split"
   ]
  },
  {
   "cell_type": "code",
   "execution_count": 48,
   "id": "c5483dc0-0f41-417f-8e7a-1fdce1e30c7c",
   "metadata": {},
   "outputs": [],
   "source": [
    "X = df.drop('isFraud',axis = 1)\n",
    "y = df.isFraud"
   ]
  },
  {
   "cell_type": "code",
   "execution_count": null,
   "id": "7908af32-7bab-4d06-851e-b62fb2dadb38",
   "metadata": {},
   "outputs": [],
   "source": []
  },
  {
   "cell_type": "code",
   "execution_count": 50,
   "id": "3c8bb7d1-1da1-4b3d-a4ef-ae25863220f1",
   "metadata": {},
   "outputs": [],
   "source": [
    "numerical_cols = ['step','amount', 'newbalanceOrig', 'newbalanceDest']"
   ]
  },
  {
   "cell_type": "code",
   "execution_count": 51,
   "id": "17654cf1-fdef-4bfa-9fe7-3bb4e52e8a4b",
   "metadata": {},
   "outputs": [
    {
     "data": {
      "text/html": [
       "<div>\n",
       "<style scoped>\n",
       "    .dataframe tbody tr th:only-of-type {\n",
       "        vertical-align: middle;\n",
       "    }\n",
       "\n",
       "    .dataframe tbody tr th {\n",
       "        vertical-align: top;\n",
       "    }\n",
       "\n",
       "    .dataframe thead th {\n",
       "        text-align: right;\n",
       "    }\n",
       "</style>\n",
       "<table border=\"1\" class=\"dataframe\">\n",
       "  <thead>\n",
       "    <tr style=\"text-align: right;\">\n",
       "      <th></th>\n",
       "      <th>step</th>\n",
       "      <th>amount</th>\n",
       "      <th>newbalanceOrig</th>\n",
       "      <th>newbalanceDest</th>\n",
       "    </tr>\n",
       "  </thead>\n",
       "  <tbody>\n",
       "    <tr>\n",
       "      <th>0</th>\n",
       "      <td>1</td>\n",
       "      <td>9839</td>\n",
       "      <td>160296</td>\n",
       "      <td>0</td>\n",
       "    </tr>\n",
       "    <tr>\n",
       "      <th>1</th>\n",
       "      <td>1</td>\n",
       "      <td>1864</td>\n",
       "      <td>19384</td>\n",
       "      <td>0</td>\n",
       "    </tr>\n",
       "    <tr>\n",
       "      <th>2</th>\n",
       "      <td>1</td>\n",
       "      <td>181</td>\n",
       "      <td>0</td>\n",
       "      <td>0</td>\n",
       "    </tr>\n",
       "    <tr>\n",
       "      <th>3</th>\n",
       "      <td>1</td>\n",
       "      <td>181</td>\n",
       "      <td>0</td>\n",
       "      <td>0</td>\n",
       "    </tr>\n",
       "    <tr>\n",
       "      <th>4</th>\n",
       "      <td>1</td>\n",
       "      <td>11668</td>\n",
       "      <td>29885</td>\n",
       "      <td>0</td>\n",
       "    </tr>\n",
       "    <tr>\n",
       "      <th>...</th>\n",
       "      <td>...</td>\n",
       "      <td>...</td>\n",
       "      <td>...</td>\n",
       "      <td>...</td>\n",
       "    </tr>\n",
       "    <tr>\n",
       "      <th>6362615</th>\n",
       "      <td>743</td>\n",
       "      <td>339682</td>\n",
       "      <td>0</td>\n",
       "      <td>339682</td>\n",
       "    </tr>\n",
       "    <tr>\n",
       "      <th>6362616</th>\n",
       "      <td>743</td>\n",
       "      <td>6311409</td>\n",
       "      <td>0</td>\n",
       "      <td>0</td>\n",
       "    </tr>\n",
       "    <tr>\n",
       "      <th>6362617</th>\n",
       "      <td>743</td>\n",
       "      <td>6311409</td>\n",
       "      <td>0</td>\n",
       "      <td>6379898</td>\n",
       "    </tr>\n",
       "    <tr>\n",
       "      <th>6362618</th>\n",
       "      <td>743</td>\n",
       "      <td>850002</td>\n",
       "      <td>0</td>\n",
       "      <td>0</td>\n",
       "    </tr>\n",
       "    <tr>\n",
       "      <th>6362619</th>\n",
       "      <td>743</td>\n",
       "      <td>850002</td>\n",
       "      <td>0</td>\n",
       "      <td>7360101</td>\n",
       "    </tr>\n",
       "  </tbody>\n",
       "</table>\n",
       "<p>6362620 rows × 4 columns</p>\n",
       "</div>"
      ],
      "text/plain": [
       "         step   amount  newbalanceOrig  newbalanceDest\n",
       "0           1     9839          160296               0\n",
       "1           1     1864           19384               0\n",
       "2           1      181               0               0\n",
       "3           1      181               0               0\n",
       "4           1    11668           29885               0\n",
       "...       ...      ...             ...             ...\n",
       "6362615   743   339682               0          339682\n",
       "6362616   743  6311409               0               0\n",
       "6362617   743  6311409               0         6379898\n",
       "6362618   743   850002               0               0\n",
       "6362619   743   850002               0         7360101\n",
       "\n",
       "[6362620 rows x 4 columns]"
      ]
     },
     "execution_count": 51,
     "metadata": {},
     "output_type": "execute_result"
    }
   ],
   "source": [
    "df[numerical_cols]"
   ]
  },
  {
   "cell_type": "code",
   "execution_count": 52,
   "id": "b932ec94-4a3c-437f-baba-74dffb5fcf76",
   "metadata": {},
   "outputs": [],
   "source": [
    "other_cols = [col for col in X.columns if col not in numerical_cols]"
   ]
  },
  {
   "cell_type": "code",
   "execution_count": 53,
   "id": "559c821a-c40b-4a64-9f99-8b75856d45c3",
   "metadata": {},
   "outputs": [
    {
     "data": {
      "text/html": [
       "<div>\n",
       "<style scoped>\n",
       "    .dataframe tbody tr th:only-of-type {\n",
       "        vertical-align: middle;\n",
       "    }\n",
       "\n",
       "    .dataframe tbody tr th {\n",
       "        vertical-align: top;\n",
       "    }\n",
       "\n",
       "    .dataframe thead th {\n",
       "        text-align: right;\n",
       "    }\n",
       "</style>\n",
       "<table border=\"1\" class=\"dataframe\">\n",
       "  <thead>\n",
       "    <tr style=\"text-align: right;\">\n",
       "      <th></th>\n",
       "      <th>isFlaggedFraud</th>\n",
       "      <th>type_CASH_OUT</th>\n",
       "      <th>type_DEBIT</th>\n",
       "      <th>type_PAYMENT</th>\n",
       "      <th>type_TRANSFER</th>\n",
       "    </tr>\n",
       "  </thead>\n",
       "  <tbody>\n",
       "    <tr>\n",
       "      <th>0</th>\n",
       "      <td>0</td>\n",
       "      <td>0</td>\n",
       "      <td>0</td>\n",
       "      <td>1</td>\n",
       "      <td>0</td>\n",
       "    </tr>\n",
       "    <tr>\n",
       "      <th>1</th>\n",
       "      <td>0</td>\n",
       "      <td>0</td>\n",
       "      <td>0</td>\n",
       "      <td>1</td>\n",
       "      <td>0</td>\n",
       "    </tr>\n",
       "    <tr>\n",
       "      <th>2</th>\n",
       "      <td>0</td>\n",
       "      <td>0</td>\n",
       "      <td>0</td>\n",
       "      <td>0</td>\n",
       "      <td>1</td>\n",
       "    </tr>\n",
       "    <tr>\n",
       "      <th>3</th>\n",
       "      <td>0</td>\n",
       "      <td>1</td>\n",
       "      <td>0</td>\n",
       "      <td>0</td>\n",
       "      <td>0</td>\n",
       "    </tr>\n",
       "    <tr>\n",
       "      <th>4</th>\n",
       "      <td>0</td>\n",
       "      <td>0</td>\n",
       "      <td>0</td>\n",
       "      <td>1</td>\n",
       "      <td>0</td>\n",
       "    </tr>\n",
       "    <tr>\n",
       "      <th>...</th>\n",
       "      <td>...</td>\n",
       "      <td>...</td>\n",
       "      <td>...</td>\n",
       "      <td>...</td>\n",
       "      <td>...</td>\n",
       "    </tr>\n",
       "    <tr>\n",
       "      <th>6362615</th>\n",
       "      <td>0</td>\n",
       "      <td>1</td>\n",
       "      <td>0</td>\n",
       "      <td>0</td>\n",
       "      <td>0</td>\n",
       "    </tr>\n",
       "    <tr>\n",
       "      <th>6362616</th>\n",
       "      <td>0</td>\n",
       "      <td>0</td>\n",
       "      <td>0</td>\n",
       "      <td>0</td>\n",
       "      <td>1</td>\n",
       "    </tr>\n",
       "    <tr>\n",
       "      <th>6362617</th>\n",
       "      <td>0</td>\n",
       "      <td>1</td>\n",
       "      <td>0</td>\n",
       "      <td>0</td>\n",
       "      <td>0</td>\n",
       "    </tr>\n",
       "    <tr>\n",
       "      <th>6362618</th>\n",
       "      <td>0</td>\n",
       "      <td>0</td>\n",
       "      <td>0</td>\n",
       "      <td>0</td>\n",
       "      <td>1</td>\n",
       "    </tr>\n",
       "    <tr>\n",
       "      <th>6362619</th>\n",
       "      <td>0</td>\n",
       "      <td>1</td>\n",
       "      <td>0</td>\n",
       "      <td>0</td>\n",
       "      <td>0</td>\n",
       "    </tr>\n",
       "  </tbody>\n",
       "</table>\n",
       "<p>6362620 rows × 5 columns</p>\n",
       "</div>"
      ],
      "text/plain": [
       "         isFlaggedFraud  type_CASH_OUT  type_DEBIT  type_PAYMENT  \\\n",
       "0                     0              0           0             1   \n",
       "1                     0              0           0             1   \n",
       "2                     0              0           0             0   \n",
       "3                     0              1           0             0   \n",
       "4                     0              0           0             1   \n",
       "...                 ...            ...         ...           ...   \n",
       "6362615               0              1           0             0   \n",
       "6362616               0              0           0             0   \n",
       "6362617               0              1           0             0   \n",
       "6362618               0              0           0             0   \n",
       "6362619               0              1           0             0   \n",
       "\n",
       "         type_TRANSFER  \n",
       "0                    0  \n",
       "1                    0  \n",
       "2                    1  \n",
       "3                    0  \n",
       "4                    0  \n",
       "...                ...  \n",
       "6362615              0  \n",
       "6362616              1  \n",
       "6362617              0  \n",
       "6362618              1  \n",
       "6362619              0  \n",
       "\n",
       "[6362620 rows x 5 columns]"
      ]
     },
     "execution_count": 53,
     "metadata": {},
     "output_type": "execute_result"
    }
   ],
   "source": [
    "df[other_cols]"
   ]
  },
  {
   "cell_type": "markdown",
   "id": "6df859a4-8e8d-4a8a-a881-eccce1a4e85b",
   "metadata": {},
   "source": [
    "## Robust Scaling"
   ]
  },
  {
   "cell_type": "code",
   "execution_count": 55,
   "id": "0b38a381-d738-4b45-947d-569f18edc46d",
   "metadata": {},
   "outputs": [],
   "source": [
    "from sklearn.preprocessing import RobustScaler"
   ]
  },
  {
   "cell_type": "code",
   "execution_count": 56,
   "id": "77a6ff86-b36d-4046-98e8-78ab96cad9b2",
   "metadata": {},
   "outputs": [],
   "source": [
    "scaler = RobustScaler()\n",
    "scaled_num = scaler.fit_transform(X[numerical_cols])\n",
    "scaled_num_df = pd.DataFrame(scaled_num, columns=numerical_cols, index=X.index)"
   ]
  },
  {
   "cell_type": "code",
   "execution_count": 57,
   "id": "c90d8ee6-70ce-4131-bf84-62527e9dca25",
   "metadata": {},
   "outputs": [
    {
     "data": {
      "text/html": [
       "<div>\n",
       "<style scoped>\n",
       "    .dataframe tbody tr th:only-of-type {\n",
       "        vertical-align: middle;\n",
       "    }\n",
       "\n",
       "    .dataframe tbody tr th {\n",
       "        vertical-align: top;\n",
       "    }\n",
       "\n",
       "    .dataframe thead th {\n",
       "        text-align: right;\n",
       "    }\n",
       "</style>\n",
       "<table border=\"1\" class=\"dataframe\">\n",
       "  <thead>\n",
       "    <tr style=\"text-align: right;\">\n",
       "      <th></th>\n",
       "      <th>step</th>\n",
       "      <th>amount</th>\n",
       "      <th>newbalanceOrig</th>\n",
       "      <th>newbalanceDest</th>\n",
       "    </tr>\n",
       "  </thead>\n",
       "  <tbody>\n",
       "    <tr>\n",
       "      <th>0</th>\n",
       "      <td>-1.329609</td>\n",
       "      <td>-0.332933</td>\n",
       "      <td>1.111176</td>\n",
       "      <td>-0.193056</td>\n",
       "    </tr>\n",
       "    <tr>\n",
       "      <th>1</th>\n",
       "      <td>-1.329609</td>\n",
       "      <td>-0.373761</td>\n",
       "      <td>0.134370</td>\n",
       "      <td>-0.193056</td>\n",
       "    </tr>\n",
       "    <tr>\n",
       "      <th>2</th>\n",
       "      <td>-1.329609</td>\n",
       "      <td>-0.382377</td>\n",
       "      <td>0.000000</td>\n",
       "      <td>-0.193056</td>\n",
       "    </tr>\n",
       "    <tr>\n",
       "      <th>3</th>\n",
       "      <td>-1.329609</td>\n",
       "      <td>-0.382377</td>\n",
       "      <td>0.000000</td>\n",
       "      <td>-0.193056</td>\n",
       "    </tr>\n",
       "    <tr>\n",
       "      <th>4</th>\n",
       "      <td>-1.329609</td>\n",
       "      <td>-0.323570</td>\n",
       "      <td>0.207164</td>\n",
       "      <td>-0.193056</td>\n",
       "    </tr>\n",
       "    <tr>\n",
       "      <th>...</th>\n",
       "      <td>...</td>\n",
       "      <td>...</td>\n",
       "      <td>...</td>\n",
       "      <td>...</td>\n",
       "    </tr>\n",
       "    <tr>\n",
       "      <th>6362615</th>\n",
       "      <td>2.815642</td>\n",
       "      <td>1.355694</td>\n",
       "      <td>0.000000</td>\n",
       "      <td>0.112438</td>\n",
       "    </tr>\n",
       "    <tr>\n",
       "      <th>6362616</th>\n",
       "      <td>2.815642</td>\n",
       "      <td>31.927884</td>\n",
       "      <td>0.000000</td>\n",
       "      <td>-0.193056</td>\n",
       "    </tr>\n",
       "    <tr>\n",
       "      <th>6362617</th>\n",
       "      <td>2.815642</td>\n",
       "      <td>31.927884</td>\n",
       "      <td>0.000000</td>\n",
       "      <td>5.544732</td>\n",
       "    </tr>\n",
       "    <tr>\n",
       "      <th>6362618</th>\n",
       "      <td>2.815642</td>\n",
       "      <td>3.968272</td>\n",
       "      <td>0.000000</td>\n",
       "      <td>-0.193056</td>\n",
       "    </tr>\n",
       "    <tr>\n",
       "      <th>6362619</th>\n",
       "      <td>2.815642</td>\n",
       "      <td>3.968272</td>\n",
       "      <td>0.000000</td>\n",
       "      <td>6.426281</td>\n",
       "    </tr>\n",
       "  </tbody>\n",
       "</table>\n",
       "<p>6362620 rows × 4 columns</p>\n",
       "</div>"
      ],
      "text/plain": [
       "             step     amount  newbalanceOrig  newbalanceDest\n",
       "0       -1.329609  -0.332933        1.111176       -0.193056\n",
       "1       -1.329609  -0.373761        0.134370       -0.193056\n",
       "2       -1.329609  -0.382377        0.000000       -0.193056\n",
       "3       -1.329609  -0.382377        0.000000       -0.193056\n",
       "4       -1.329609  -0.323570        0.207164       -0.193056\n",
       "...           ...        ...             ...             ...\n",
       "6362615  2.815642   1.355694        0.000000        0.112438\n",
       "6362616  2.815642  31.927884        0.000000       -0.193056\n",
       "6362617  2.815642  31.927884        0.000000        5.544732\n",
       "6362618  2.815642   3.968272        0.000000       -0.193056\n",
       "6362619  2.815642   3.968272        0.000000        6.426281\n",
       "\n",
       "[6362620 rows x 4 columns]"
      ]
     },
     "execution_count": 57,
     "metadata": {},
     "output_type": "execute_result"
    }
   ],
   "source": [
    "scaled_num_df"
   ]
  },
  {
   "cell_type": "code",
   "execution_count": 58,
   "id": "b2ecd8d9-cb06-493f-8f23-e38161b3c389",
   "metadata": {},
   "outputs": [],
   "source": [
    "s_X = pd.concat([scaled_num_df, X[other_cols]], axis=1)"
   ]
  },
  {
   "cell_type": "code",
   "execution_count": 59,
   "id": "05de0ff9-e55f-48fd-ad7a-e812d44f63ee",
   "metadata": {},
   "outputs": [
    {
     "data": {
      "text/html": [
       "<div>\n",
       "<style scoped>\n",
       "    .dataframe tbody tr th:only-of-type {\n",
       "        vertical-align: middle;\n",
       "    }\n",
       "\n",
       "    .dataframe tbody tr th {\n",
       "        vertical-align: top;\n",
       "    }\n",
       "\n",
       "    .dataframe thead th {\n",
       "        text-align: right;\n",
       "    }\n",
       "</style>\n",
       "<table border=\"1\" class=\"dataframe\">\n",
       "  <thead>\n",
       "    <tr style=\"text-align: right;\">\n",
       "      <th></th>\n",
       "      <th>step</th>\n",
       "      <th>amount</th>\n",
       "      <th>newbalanceOrig</th>\n",
       "      <th>newbalanceDest</th>\n",
       "      <th>isFlaggedFraud</th>\n",
       "      <th>type_CASH_OUT</th>\n",
       "      <th>type_DEBIT</th>\n",
       "      <th>type_PAYMENT</th>\n",
       "      <th>type_TRANSFER</th>\n",
       "    </tr>\n",
       "  </thead>\n",
       "  <tbody>\n",
       "    <tr>\n",
       "      <th>0</th>\n",
       "      <td>-1.329609</td>\n",
       "      <td>-0.332933</td>\n",
       "      <td>1.111176</td>\n",
       "      <td>-0.193056</td>\n",
       "      <td>0</td>\n",
       "      <td>0</td>\n",
       "      <td>0</td>\n",
       "      <td>1</td>\n",
       "      <td>0</td>\n",
       "    </tr>\n",
       "    <tr>\n",
       "      <th>1</th>\n",
       "      <td>-1.329609</td>\n",
       "      <td>-0.373761</td>\n",
       "      <td>0.134370</td>\n",
       "      <td>-0.193056</td>\n",
       "      <td>0</td>\n",
       "      <td>0</td>\n",
       "      <td>0</td>\n",
       "      <td>1</td>\n",
       "      <td>0</td>\n",
       "    </tr>\n",
       "    <tr>\n",
       "      <th>2</th>\n",
       "      <td>-1.329609</td>\n",
       "      <td>-0.382377</td>\n",
       "      <td>0.000000</td>\n",
       "      <td>-0.193056</td>\n",
       "      <td>0</td>\n",
       "      <td>0</td>\n",
       "      <td>0</td>\n",
       "      <td>0</td>\n",
       "      <td>1</td>\n",
       "    </tr>\n",
       "    <tr>\n",
       "      <th>3</th>\n",
       "      <td>-1.329609</td>\n",
       "      <td>-0.382377</td>\n",
       "      <td>0.000000</td>\n",
       "      <td>-0.193056</td>\n",
       "      <td>0</td>\n",
       "      <td>1</td>\n",
       "      <td>0</td>\n",
       "      <td>0</td>\n",
       "      <td>0</td>\n",
       "    </tr>\n",
       "    <tr>\n",
       "      <th>4</th>\n",
       "      <td>-1.329609</td>\n",
       "      <td>-0.323570</td>\n",
       "      <td>0.207164</td>\n",
       "      <td>-0.193056</td>\n",
       "      <td>0</td>\n",
       "      <td>0</td>\n",
       "      <td>0</td>\n",
       "      <td>1</td>\n",
       "      <td>0</td>\n",
       "    </tr>\n",
       "    <tr>\n",
       "      <th>...</th>\n",
       "      <td>...</td>\n",
       "      <td>...</td>\n",
       "      <td>...</td>\n",
       "      <td>...</td>\n",
       "      <td>...</td>\n",
       "      <td>...</td>\n",
       "      <td>...</td>\n",
       "      <td>...</td>\n",
       "      <td>...</td>\n",
       "    </tr>\n",
       "    <tr>\n",
       "      <th>6362615</th>\n",
       "      <td>2.815642</td>\n",
       "      <td>1.355694</td>\n",
       "      <td>0.000000</td>\n",
       "      <td>0.112438</td>\n",
       "      <td>0</td>\n",
       "      <td>1</td>\n",
       "      <td>0</td>\n",
       "      <td>0</td>\n",
       "      <td>0</td>\n",
       "    </tr>\n",
       "    <tr>\n",
       "      <th>6362616</th>\n",
       "      <td>2.815642</td>\n",
       "      <td>31.927884</td>\n",
       "      <td>0.000000</td>\n",
       "      <td>-0.193056</td>\n",
       "      <td>0</td>\n",
       "      <td>0</td>\n",
       "      <td>0</td>\n",
       "      <td>0</td>\n",
       "      <td>1</td>\n",
       "    </tr>\n",
       "    <tr>\n",
       "      <th>6362617</th>\n",
       "      <td>2.815642</td>\n",
       "      <td>31.927884</td>\n",
       "      <td>0.000000</td>\n",
       "      <td>5.544732</td>\n",
       "      <td>0</td>\n",
       "      <td>1</td>\n",
       "      <td>0</td>\n",
       "      <td>0</td>\n",
       "      <td>0</td>\n",
       "    </tr>\n",
       "    <tr>\n",
       "      <th>6362618</th>\n",
       "      <td>2.815642</td>\n",
       "      <td>3.968272</td>\n",
       "      <td>0.000000</td>\n",
       "      <td>-0.193056</td>\n",
       "      <td>0</td>\n",
       "      <td>0</td>\n",
       "      <td>0</td>\n",
       "      <td>0</td>\n",
       "      <td>1</td>\n",
       "    </tr>\n",
       "    <tr>\n",
       "      <th>6362619</th>\n",
       "      <td>2.815642</td>\n",
       "      <td>3.968272</td>\n",
       "      <td>0.000000</td>\n",
       "      <td>6.426281</td>\n",
       "      <td>0</td>\n",
       "      <td>1</td>\n",
       "      <td>0</td>\n",
       "      <td>0</td>\n",
       "      <td>0</td>\n",
       "    </tr>\n",
       "  </tbody>\n",
       "</table>\n",
       "<p>6362620 rows × 9 columns</p>\n",
       "</div>"
      ],
      "text/plain": [
       "             step     amount  newbalanceOrig  newbalanceDest  isFlaggedFraud  \\\n",
       "0       -1.329609  -0.332933        1.111176       -0.193056               0   \n",
       "1       -1.329609  -0.373761        0.134370       -0.193056               0   \n",
       "2       -1.329609  -0.382377        0.000000       -0.193056               0   \n",
       "3       -1.329609  -0.382377        0.000000       -0.193056               0   \n",
       "4       -1.329609  -0.323570        0.207164       -0.193056               0   \n",
       "...           ...        ...             ...             ...             ...   \n",
       "6362615  2.815642   1.355694        0.000000        0.112438               0   \n",
       "6362616  2.815642  31.927884        0.000000       -0.193056               0   \n",
       "6362617  2.815642  31.927884        0.000000        5.544732               0   \n",
       "6362618  2.815642   3.968272        0.000000       -0.193056               0   \n",
       "6362619  2.815642   3.968272        0.000000        6.426281               0   \n",
       "\n",
       "         type_CASH_OUT  type_DEBIT  type_PAYMENT  type_TRANSFER  \n",
       "0                    0           0             1              0  \n",
       "1                    0           0             1              0  \n",
       "2                    0           0             0              1  \n",
       "3                    1           0             0              0  \n",
       "4                    0           0             1              0  \n",
       "...                ...         ...           ...            ...  \n",
       "6362615              1           0             0              0  \n",
       "6362616              0           0             0              1  \n",
       "6362617              1           0             0              0  \n",
       "6362618              0           0             0              1  \n",
       "6362619              1           0             0              0  \n",
       "\n",
       "[6362620 rows x 9 columns]"
      ]
     },
     "execution_count": 59,
     "metadata": {},
     "output_type": "execute_result"
    }
   ],
   "source": [
    "s_X"
   ]
  },
  {
   "cell_type": "code",
   "execution_count": null,
   "id": "6ae8458a-e833-4cf8-bd98-08877986109e",
   "metadata": {},
   "outputs": [],
   "source": []
  },
  {
   "cell_type": "code",
   "execution_count": 63,
   "id": "28e53e1b-fdf2-45c0-94fb-d4ae61ac21b2",
   "metadata": {},
   "outputs": [],
   "source": [
    "X_train,X_test,y_train,y_test = train_test_split(s_X,y,test_size= 0.2, stratify=y, random_state=0)"
   ]
  },
  {
   "cell_type": "code",
   "execution_count": 64,
   "id": "72fa685c-5b0f-4ede-ac0b-5d802251b898",
   "metadata": {},
   "outputs": [
    {
     "data": {
      "text/plain": [
       "isFraud\n",
       "0    99.870887\n",
       "1     0.129113\n",
       "Name: proportion, dtype: float64"
      ]
     },
     "execution_count": 64,
     "metadata": {},
     "output_type": "execute_result"
    }
   ],
   "source": [
    "y_test.value_counts(normalize = True)*100"
   ]
  },
  {
   "cell_type": "code",
   "execution_count": null,
   "id": "0b3319bd-2bbd-4450-9472-111f265f05f3",
   "metadata": {},
   "outputs": [],
   "source": []
  },
  {
   "cell_type": "code",
   "execution_count": 66,
   "id": "43039428-e68b-43a3-bf0a-38b6997c2482",
   "metadata": {},
   "outputs": [
    {
     "data": {
      "text/plain": [
       "1676258    0\n",
       "1532444    0\n",
       "4275262    0\n",
       "1998321    0\n",
       "2613451    0\n",
       "          ..\n",
       "5392248    0\n",
       "6319334    0\n",
       "5175250    0\n",
       "915126     0\n",
       "2384085    0\n",
       "Name: isFraud, Length: 5090096, dtype: int32"
      ]
     },
     "execution_count": 66,
     "metadata": {},
     "output_type": "execute_result"
    }
   ],
   "source": [
    "y_train"
   ]
  },
  {
   "cell_type": "code",
   "execution_count": null,
   "id": "b0bc407a-a1ca-4d9a-9e6f-4a32060622b2",
   "metadata": {},
   "outputs": [],
   "source": []
  },
  {
   "cell_type": "markdown",
   "id": "4234a706-2783-404e-bd96-9dcb7f7bddf0",
   "metadata": {},
   "source": [
    "## Resampling (UnderSampling)"
   ]
  },
  {
   "cell_type": "code",
   "execution_count": 69,
   "id": "1b0c52d6-d9ed-4bce-b196-3ee0a9db7ff9",
   "metadata": {},
   "outputs": [],
   "source": [
    "from imblearn.under_sampling import RandomUnderSampler\n",
    "\n",
    "rus = RandomUnderSampler(sampling_strategy='auto', random_state=42)\n",
    "X_train1, y_train1 = rus.fit_resample(X_train, y_train)"
   ]
  },
  {
   "cell_type": "code",
   "execution_count": 70,
   "id": "3dd4aa98-eec9-4357-bb7b-09ae5d650e86",
   "metadata": {},
   "outputs": [
    {
     "data": {
      "text/plain": [
       "isFraud\n",
       "0    50.0\n",
       "1    50.0\n",
       "Name: proportion, dtype: float64"
      ]
     },
     "execution_count": 70,
     "metadata": {},
     "output_type": "execute_result"
    }
   ],
   "source": [
    "y_train1.value_counts(normalize = True)*100"
   ]
  },
  {
   "cell_type": "code",
   "execution_count": null,
   "id": "02518697-d232-4d27-ac2f-358644d158ad",
   "metadata": {},
   "outputs": [],
   "source": []
  },
  {
   "cell_type": "code",
   "execution_count": null,
   "id": "3b0efb2b-4222-46d6-ad31-1a9f4d525907",
   "metadata": {},
   "outputs": [],
   "source": []
  },
  {
   "cell_type": "markdown",
   "id": "955ae8cd-5c58-47b3-b71b-bffb44b8e967",
   "metadata": {},
   "source": [
    "## Model Building"
   ]
  },
  {
   "cell_type": "code",
   "execution_count": 148,
   "id": "73319bc1-0258-4e52-93d0-81131c4bc428",
   "metadata": {},
   "outputs": [],
   "source": [
    "from sklearn.metrics import confusion_matrix,classification_report"
   ]
  },
  {
   "cell_type": "code",
   "execution_count": null,
   "id": "f076d526-9c5c-42dd-9190-62dd63030dfb",
   "metadata": {},
   "outputs": [],
   "source": []
  },
  {
   "cell_type": "code",
   "execution_count": 76,
   "id": "da4e5071-8cb9-485b-9f92-46976462d2c1",
   "metadata": {},
   "outputs": [
    {
     "name": "stdout",
     "output_type": "stream",
     "text": [
      "              precision    recall  f1-score   support\n",
      "\n",
      "           0     0.9996    0.9999    0.9998   1270881\n",
      "           1     0.9294    0.6652    0.7755      1643\n",
      "\n",
      "    accuracy                         0.9995   1272524\n",
      "   macro avg     0.9645    0.8326    0.8876   1272524\n",
      "weighted avg     0.9995    0.9995    0.9995   1272524\n",
      "\n"
     ]
    }
   ],
   "source": [
    "from sklearn.ensemble import RandomForestClassifier\n",
    "\n",
    "model = RandomForestClassifier(class_weight='balanced', random_state=42)\n",
    "model.fit(X_train, y_train)\n",
    "\n",
    "y_pred = model.predict(X_test)\n",
    "\n",
    "print(classification_report(y_test, y_pred, digits=4))\n"
   ]
  },
  {
   "cell_type": "code",
   "execution_count": 123,
   "id": "63858ba3-6df5-44ec-bd28-b0c7ea5a5421",
   "metadata": {},
   "outputs": [],
   "source": [
    "y_train_pred = model.predict(X_train)"
   ]
  },
  {
   "cell_type": "code",
   "execution_count": 126,
   "id": "88759de7-2ea3-4b20-ab62-4aa832e1c0ed",
   "metadata": {},
   "outputs": [
    {
     "data": {
      "text/plain": [
       "array([[5083526,       0],\n",
       "       [      8,    6562]], dtype=int64)"
      ]
     },
     "metadata": {},
     "output_type": "display_data"
    },
    {
     "name": "stdout",
     "output_type": "stream",
     "text": [
      "              precision    recall  f1-score   support\n",
      "\n",
      "           0     1.0000    1.0000    1.0000   5083526\n",
      "           1     1.0000    0.9988    0.9994      6570\n",
      "\n",
      "    accuracy                         1.0000   5090096\n",
      "   macro avg     1.0000    0.9994    0.9997   5090096\n",
      "weighted avg     1.0000    1.0000    1.0000   5090096\n",
      "\n"
     ]
    }
   ],
   "source": [
    "display(confusion_matrix(y_train,y_train_pred))\n",
    "print(classification_report(y_train, y_train_pred, digits=4))"
   ]
  },
  {
   "cell_type": "code",
   "execution_count": 132,
   "id": "3737eb8a-27ba-46f1-9bb7-b7213566af17",
   "metadata": {},
   "outputs": [
    {
     "data": {
      "text/plain": [
       "array([[1270798,      83],\n",
       "       [    550,    1093]], dtype=int64)"
      ]
     },
     "metadata": {},
     "output_type": "display_data"
    },
    {
     "name": "stdout",
     "output_type": "stream",
     "text": [
      "              precision    recall  f1-score   support\n",
      "\n",
      "           0     0.9996    0.9999    0.9998   1270881\n",
      "           1     0.9294    0.6652    0.7755      1643\n",
      "\n",
      "    accuracy                         0.9995   1272524\n",
      "   macro avg     0.9645    0.8326    0.8876   1272524\n",
      "weighted avg     0.9995    0.9995    0.9995   1272524\n",
      "\n"
     ]
    }
   ],
   "source": [
    "display(confusion_matrix(y_test,y_pred))\n",
    "print(classification_report(y_test, y_pred, digits=4))"
   ]
  },
  {
   "cell_type": "code",
   "execution_count": null,
   "id": "0ffaec48-cbc6-4db8-a316-d3a11e0c04b6",
   "metadata": {},
   "outputs": [],
   "source": []
  },
  {
   "cell_type": "markdown",
   "id": "ac5daa1c-7c6c-4de6-904f-197ffe0c7548",
   "metadata": {},
   "source": [
    "## Models UnderSampling"
   ]
  },
  {
   "cell_type": "markdown",
   "id": "77ca2d12-ac1d-49e1-8d36-18ee8037e876",
   "metadata": {},
   "source": [
    "#### Using UnderSampling, SMOTE and TOMEK Link Models Accuracy is good but Precision and f1-score is not good"
   ]
  },
  {
   "cell_type": "markdown",
   "id": "da59e5a7-775c-49a6-b86f-468f84f349a5",
   "metadata": {},
   "source": [
    "## Logistic Regression"
   ]
  },
  {
   "cell_type": "code",
   "execution_count": 134,
   "id": "5b1c494a-db5e-44c8-a289-c876ed95df69",
   "metadata": {},
   "outputs": [
    {
     "data": {
      "text/plain": [
       "array([[5269, 1301],\n",
       "       [ 782, 5788]], dtype=int64)"
      ]
     },
     "metadata": {},
     "output_type": "display_data"
    },
    {
     "data": {
      "text/plain": [
       "array([[1014923,  255958],\n",
       "       [    217,    1426]], dtype=int64)"
      ]
     },
     "metadata": {},
     "output_type": "display_data"
    },
    {
     "name": "stdout",
     "output_type": "stream",
     "text": [
      "              precision    recall  f1-score   support\n",
      "\n",
      "           0       0.87      0.80      0.83      6570\n",
      "           1       0.82      0.88      0.85      6570\n",
      "\n",
      "    accuracy                           0.84     13140\n",
      "   macro avg       0.84      0.84      0.84     13140\n",
      "weighted avg       0.84      0.84      0.84     13140\n",
      "\n",
      "              precision    recall  f1-score   support\n",
      "\n",
      "           0       1.00      0.80      0.89   1270881\n",
      "           1       0.01      0.87      0.01      1643\n",
      "\n",
      "    accuracy                           0.80   1272524\n",
      "   macro avg       0.50      0.83      0.45   1272524\n",
      "weighted avg       1.00      0.80      0.89   1272524\n",
      "\n"
     ]
    }
   ],
   "source": [
    "from sklearn.linear_model import LogisticRegression\n",
    "model1 = LogisticRegression()\n",
    "model1.fit(X_train1,y_train1)\n",
    "y_train_pred = model1.predict(X_train1)\n",
    "y_test_pred = model1.predict(X_test)\n",
    "display(confusion_matrix(y_train1,y_train_pred))\n",
    "display(confusion_matrix(y_test,y_test_pred))\n",
    "print(classification_report(y_train1,y_train_pred))\n",
    "print(classification_report(y_test,y_test_pred))"
   ]
  },
  {
   "cell_type": "code",
   "execution_count": null,
   "id": "9fe4ed3e-f561-43fd-8813-38fb745da2e2",
   "metadata": {},
   "outputs": [],
   "source": []
  },
  {
   "cell_type": "markdown",
   "id": "c6ebc924-dd9d-49ce-b19a-eb24cb9bd27b",
   "metadata": {},
   "source": [
    "## Decision Tree "
   ]
  },
  {
   "cell_type": "code",
   "execution_count": 137,
   "id": "fb83d198-b0f5-478b-8b8b-fd57e3e1779f",
   "metadata": {},
   "outputs": [
    {
     "data": {
      "text/plain": [
       "array([[6570,    0],\n",
       "       [   0, 6570]], dtype=int64)"
      ]
     },
     "metadata": {},
     "output_type": "display_data"
    },
    {
     "data": {
      "text/plain": [
       "array([[1157524,  113357],\n",
       "       [    152,    1491]], dtype=int64)"
      ]
     },
     "metadata": {},
     "output_type": "display_data"
    },
    {
     "name": "stdout",
     "output_type": "stream",
     "text": [
      "              precision    recall  f1-score   support\n",
      "\n",
      "           0       1.00      1.00      1.00      6570\n",
      "           1       1.00      1.00      1.00      6570\n",
      "\n",
      "    accuracy                           1.00     13140\n",
      "   macro avg       1.00      1.00      1.00     13140\n",
      "weighted avg       1.00      1.00      1.00     13140\n",
      "\n",
      "              precision    recall  f1-score   support\n",
      "\n",
      "           0       1.00      0.91      0.95   1270881\n",
      "           1       0.01      0.91      0.03      1643\n",
      "\n",
      "    accuracy                           0.91   1272524\n",
      "   macro avg       0.51      0.91      0.49   1272524\n",
      "weighted avg       1.00      0.91      0.95   1272524\n",
      "\n"
     ]
    }
   ],
   "source": [
    "from sklearn.tree import DecisionTreeClassifier\n",
    "model2 = DecisionTreeClassifier()\n",
    "model2.fit(X_train1, y_train1)\n",
    "y_train_pred = model2.predict(X_train1)\n",
    "y_test_pred = model2.predict(X_test)\n",
    "display(confusion_matrix(y_train1,y_train_pred))\n",
    "display(confusion_matrix(y_test,y_test_pred))\n",
    "print(classification_report(y_train1,y_train_pred))\n",
    "print(classification_report(y_test,y_test_pred))"
   ]
  },
  {
   "cell_type": "code",
   "execution_count": null,
   "id": "609179bf-7cf1-420c-bdca-6b6d0e5ccb96",
   "metadata": {},
   "outputs": [],
   "source": []
  },
  {
   "cell_type": "markdown",
   "id": "3f52826e-bd39-4dbd-a52a-364bd38aec48",
   "metadata": {},
   "source": [
    "## Random Forest"
   ]
  },
  {
   "cell_type": "code",
   "execution_count": 140,
   "id": "af83be3e-2b9f-4a4f-98ec-30e05c03e0ec",
   "metadata": {},
   "outputs": [
    {
     "data": {
      "text/plain": [
       "array([[6418,  152],\n",
       "       [ 617, 5953]], dtype=int64)"
      ]
     },
     "metadata": {},
     "output_type": "display_data"
    },
    {
     "data": {
      "text/plain": [
       "array([[1227156,   43725],\n",
       "       [    190,    1453]], dtype=int64)"
      ]
     },
     "metadata": {},
     "output_type": "display_data"
    },
    {
     "name": "stdout",
     "output_type": "stream",
     "text": [
      "              precision    recall  f1-score   support\n",
      "\n",
      "           0       0.91      0.98      0.94      6570\n",
      "           1       0.98      0.91      0.94      6570\n",
      "\n",
      "    accuracy                           0.94     13140\n",
      "   macro avg       0.94      0.94      0.94     13140\n",
      "weighted avg       0.94      0.94      0.94     13140\n",
      "\n",
      "              precision    recall  f1-score   support\n",
      "\n",
      "           0       1.00      0.97      0.98   1270881\n",
      "           1       0.03      0.88      0.06      1643\n",
      "\n",
      "    accuracy                           0.97   1272524\n",
      "   macro avg       0.52      0.92      0.52   1272524\n",
      "weighted avg       1.00      0.97      0.98   1272524\n",
      "\n"
     ]
    }
   ],
   "source": [
    "from sklearn.ensemble import RandomForestClassifier\n",
    "model3 = RandomForestClassifier(n_estimators=30,max_depth = 10,n_jobs=-1)\n",
    "model3.fit(X_train1, y_train1)\n",
    "y_train_pred = model3.predict(X_train1)\n",
    "y_test_pred = model3.predict(X_test)\n",
    "display(confusion_matrix(y_train1,y_train_pred))\n",
    "display(confusion_matrix(y_test,y_test_pred))\n",
    "print(classification_report(y_train1,y_train_pred))\n",
    "print(classification_report(y_test,y_test_pred))"
   ]
  },
  {
   "cell_type": "code",
   "execution_count": null,
   "id": "99f81993-af41-44d0-8699-eda766fa3c9e",
   "metadata": {},
   "outputs": [],
   "source": []
  }
 ],
 "metadata": {
  "kernelspec": {
   "display_name": "Python 3 (ipykernel)",
   "language": "python",
   "name": "python3"
  },
  "language_info": {
   "codemirror_mode": {
    "name": "ipython",
    "version": 3
   },
   "file_extension": ".py",
   "mimetype": "text/x-python",
   "name": "python",
   "nbconvert_exporter": "python",
   "pygments_lexer": "ipython3",
   "version": "3.12.7"
  }
 },
 "nbformat": 4,
 "nbformat_minor": 5
}
